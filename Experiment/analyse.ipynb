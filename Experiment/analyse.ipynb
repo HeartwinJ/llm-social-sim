{
 "cells": [
  {
   "cell_type": "code",
   "execution_count": null,
   "metadata": {},
   "outputs": [],
   "source": [
    "import pandas as pd\n",
    "import matplotlib.pyplot as plt\n",
    "import seaborn as sns\n",
    "import math\n",
    "from scipy import stats"
   ]
  },
  {
   "cell_type": "code",
   "execution_count": null,
   "metadata": {},
   "outputs": [],
   "source": [
    "data = []\n",
    "dirs = ['bench', 'out1', 'out2', 'out3', 'out4', 'out5', 'out6', 'out7']\n",
    "for d in dirs:\n",
    "\tdata.append(pd.read_csv(d + '/experiment.csv'))"
   ]
  },
  {
   "cell_type": "code",
   "execution_count": null,
   "metadata": {},
   "outputs": [],
   "source": [
    "def plot(data, title='Average payouts with standard deviation'):\n",
    "\ttreatments = data['treatment'].unique()\n",
    "\tnum_treatments = len(treatments)\n",
    "\n",
    "\taverages = pd.DataFrame(index=range(1, 76), columns=treatments)\n",
    "\tstds = pd.DataFrame(index=range(1, 76), columns=treatments)\n",
    "\n",
    "\tfor treatment in treatments:\n",
    "\t\tround_averages = []\n",
    "\t\tround_stds = []\n",
    "\t\tfor round in range(1, 76):\n",
    "\t\t\tround_df = data.loc[(data['treatment'] == treatment) & (data['round'] == round), ['player1_payout', 'player2_payout']].reset_index(drop=True)\n",
    "\t\t\tround_averages.append(((round_df['player1_payout'] + round_df['player2_payout']) / 2).mean())\n",
    "\t\t\tround_stds.append(((round_df['player1_payout'] + round_df['player2_payout']) / 2).std())\n",
    "\t\taverages[treatment] = round_averages\n",
    "\t\tstds[treatment] = round_stds\n",
    "\n",
    "\tsns.set_theme(style=\"whitegrid\")\n",
    "\n",
    "\tn_cols = 3\n",
    "\tn_rows = math.ceil(num_treatments / n_cols)\n",
    "\n",
    "\tfig, axs = plt.subplots(nrows=n_rows, ncols=n_cols, figsize=(15, 5 * n_rows))\n",
    "\taxs = axs.flatten()\n",
    "\n",
    "\tplt.setp(axs, xlim=(1, 75), ylim=(0, 50))\n",
    "\n",
    "\tfor i, treatment in enumerate(treatments):\n",
    "\t\tmean_vals = averages[treatment]\n",
    "\t\tstd_vals = stds[treatment]\n",
    "\t\tsns.lineplot(x=mean_vals.index, y=mean_vals, ax=axs[i])\n",
    "\n",
    "\t\tsns.lineplot(x=range(1, 76), y=[45] * 75, ax=axs[i], color='r', linestyle='--')\n",
    "\t\tsns.lineplot(x=range(1, 76), y=[36] * 75, ax=axs[i], color='y', linestyle='--')\n",
    "\t\tsns.lineplot(x=range(1, 76), y=[20] * 75, ax=axs[i], color='g', linestyle='--')\n",
    "\n",
    "\t\taxs[i].fill_between(mean_vals.index, mean_vals - std_vals, mean_vals + std_vals, color='b', alpha=0.2)\n",
    "\t\taxs[i].set_title(treatment)\n",
    "\t\taxs[i].set_xlabel('Round number')\n",
    "\t\taxs[i].set_ylabel('Average Payout')\n",
    "\n",
    "\tfor j in range(len(treatments), len(axs)):\n",
    "\t\tfig.delaxes(axs[j])\n",
    "\n",
    "\tfig.suptitle(title, fontsize=16)\n",
    "\tplt.tight_layout(rect=[0, 0, 1, 0.96])\n",
    "\t#plt.savefig(f'comparison_plot.pdf')\n",
    "\tplt.show()"
   ]
  },
  {
   "cell_type": "code",
   "execution_count": null,
   "metadata": {},
   "outputs": [],
   "source": [
    "for i, d in enumerate(data):\n",
    "\tplot(d, title=f\"Average payouts with standard deviation for Experiment {i}\")"
   ]
  },
  {
   "cell_type": "code",
   "execution_count": null,
   "metadata": {},
   "outputs": [],
   "source": [
    "def compute_averages(data, treatments):\n",
    "\taverages = pd.DataFrame(index=range(1, 76), columns=treatments)\n",
    "\n",
    "\tfor treatment in treatments:\n",
    "\t\t\tround_averages = []\n",
    "\t\t\tfor round in range(1, 76):\n",
    "\t\t\t\tround_df = data.loc[(data['treatment'] == treatment) & (data['round'] == round), ['player1_payout', 'player2_payout']].reset_index(drop=True)\n",
    "\t\t\t\tround_averages.append(((round_df['player1_payout'] + round_df['player2_payout']) / 2).mean())\n",
    "\t\t\taverages[treatment] = round_averages\n",
    "\t\n",
    "\treturn averages"
   ]
  },
  {
   "cell_type": "code",
   "execution_count": null,
   "metadata": {},
   "outputs": [],
   "source": [
    "base_df = data[0]\n",
    "treatments = base_df['treatment'].unique()\n",
    "num_treatments = len(treatments)\n",
    "\n",
    "base_averages = compute_averages(base_df, treatments)"
   ]
  },
  {
   "cell_type": "code",
   "execution_count": null,
   "metadata": {},
   "outputs": [],
   "source": [
    "base_averages.plot(ylim=(0, 50))"
   ]
  },
  {
   "cell_type": "code",
   "execution_count": null,
   "metadata": {},
   "outputs": [],
   "source": [
    "for exp_df in data[1:]:\n",
    "\texp_averages = compute_averages(exp_df, treatments)\n",
    "\t\n",
    "\tfig, axs = plt.subplots(ncols=3, figsize=(15, 5))\n",
    "\tplt.setp(axs, xlim=(1, 75), ylim=(0, 50))\n",
    "\n",
    "\tfor i, treatment in enumerate(treatments):\n",
    "\t\tbase_vals = base_averages[treatment]\n",
    "\t\tmean_vals = exp_averages[treatment]\n",
    "\n",
    "\t\tsns.lineplot(x=base_vals.index, y=base_vals, ax=axs[i])\n",
    "\t\tsns.lineplot(x=mean_vals.index, y=mean_vals, ax=axs[i])\n",
    "\t\taxs[i].fill_between(mean_vals.index, mean_vals, base_vals, color='b', alpha=0.2)\n",
    "\n",
    "\t\taxs[i].set_title(treatment)\n",
    "\t\taxs[i].set_xlabel('Round number')\n",
    "\t\taxs[i].set_ylabel('Average Payout')"
   ]
  },
  {
   "cell_type": "code",
   "execution_count": null,
   "metadata": {},
   "outputs": [],
   "source": [
    "for exp_df in data[1:]:\n",
    "\texp_averages = compute_averages(exp_df, treatments)\n",
    "\n",
    "\tfor treatment in treatments:\n",
    "\t\tprint(stats.ttest_rel(base_averages[treatment], exp_averages[treatment]))\n",
    "\tprint(\"\")\n",
    "\t"
   ]
  }
 ],
 "metadata": {
  "kernelspec": {
   "display_name": "base",
   "language": "python",
   "name": "python3"
  },
  "language_info": {
   "codemirror_mode": {
    "name": "ipython",
    "version": 3
   },
   "file_extension": ".py",
   "mimetype": "text/x-python",
   "name": "python",
   "nbconvert_exporter": "python",
   "pygments_lexer": "ipython3",
   "version": "3.12.4"
  }
 },
 "nbformat": 4,
 "nbformat_minor": 2
}
