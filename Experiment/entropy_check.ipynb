{
 "cells": [
  {
   "cell_type": "code",
   "execution_count": 1,
   "metadata": {},
   "outputs": [],
   "source": [
    "import pandas as pd\n",
    "import numpy as np\n",
    "import json"
   ]
  },
  {
   "cell_type": "code",
   "execution_count": 2,
   "metadata": {},
   "outputs": [],
   "source": [
    "class Participant:\n",
    "\tdef __init__(self, id):\n",
    "\t\tself.id = id\n",
    "\t\tself.choices = []\n",
    "\t\tself.treatment = None\n",
    "\t\n",
    "\tdef __repr__(self):\n",
    "\t\treturn f\"<Participant {{id: {self.id}}}>\"\n",
    "\t\n",
    "\tdef set_choice(self, choice):\n",
    "\t\tself.choices.append(choice)"
   ]
  },
  {
   "cell_type": "code",
   "execution_count": 3,
   "metadata": {},
   "outputs": [],
   "source": [
    "NUM_COHORTS = 24\n",
    "COHORT_SIZE = 8\n",
    "NUM_ROUNDS = 75\n",
    "\n",
    "dirs = ['out5', 'out6', 'out7']"
   ]
  },
  {
   "cell_type": "code",
   "execution_count": 4,
   "metadata": {},
   "outputs": [
    {
     "name": "stdout",
     "output_type": "stream",
     "text": [
      "35.354166666666664\n",
      "22.708333333333332\n",
      "26.828125\n"
     ]
    }
   ],
   "source": [
    "for dir in dirs:\n",
    "\tdf = pd.read_csv(f\"{dir}/experiment.csv\")\n",
    "\ttreatments = df['treatment'].unique()\n",
    "\tparticipants = {}\n",
    "\n",
    "\tfor i, row in df.iterrows():\n",
    "\t\ttreatment = row['treatment']\n",
    "\t\tplayer1_id = row['player1_id']\n",
    "\t\tplayer2_id = row['player2_id']\n",
    "\t\tplayer1_choice = row['player1_choice']\n",
    "\t\tplayer2_choice = row['player2_choice']\n",
    "\n",
    "\t\tif player1_id not in participants:\n",
    "\t\t\tparticipants[player1_id] = [player1_choice]\n",
    "\t\telse:\n",
    "\t\t\tparticipants[player1_id].append(player1_choice)\n",
    "\t\t\n",
    "\t\tif player2_id not in participants:\n",
    "\t\t\tparticipants[player2_id] = [player2_choice]\n",
    "\t\telse:\n",
    "\t\t\tparticipants[player2_id].append(player2_choice)\n",
    "\t\n",
    "\tavg = [\"\".join(participants[id]).count('BR') + \"\".join(participants[id]).count('RB') for id in participants]\n",
    "\tprint(sum(avg) / len(avg))"
   ]
  }
 ],
 "metadata": {
  "kernelspec": {
   "display_name": "venv",
   "language": "python",
   "name": "python3"
  },
  "language_info": {
   "codemirror_mode": {
    "name": "ipython",
    "version": 3
   },
   "file_extension": ".py",
   "mimetype": "text/x-python",
   "name": "python",
   "nbconvert_exporter": "python",
   "pygments_lexer": "ipython3",
   "version": "3.12.4"
  }
 },
 "nbformat": 4,
 "nbformat_minor": 2
}
