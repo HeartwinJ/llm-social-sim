{
 "cells": [
  {
   "cell_type": "code",
   "execution_count": 42,
   "metadata": {},
   "outputs": [],
   "source": [
    "import requests # type: ignore\n",
    "import numpy as np # type: ignore\n",
    "import re"
   ]
  },
  {
   "cell_type": "code",
   "execution_count": 43,
   "metadata": {},
   "outputs": [],
   "source": [
    "NUM_COHORTS = 6 # 24\n",
    "COHORT_SIZE = 4 # 8\n",
    "NUM_ROUNDS = 3 # 75\n",
    "\n",
    "MEMORY_SIZE = 10\n",
    "MODEL_NAME= \"mistral\""
   ]
  },
  {
   "cell_type": "code",
   "execution_count": 44,
   "metadata": {},
   "outputs": [],
   "source": [
    "TREATMENTS = {\n",
    "\t0.6: {\n",
    "\t\t('R', 'R'): (45, 45),\n",
    "\t\t('R', 'B'): (0, 42),\n",
    "\t\t('B', 'R'): (42, 0),\n",
    "\t\t('B', 'B'): (12, 12)\n",
    "\t},\n",
    "\t1: {\n",
    "\t\t('R', 'R'): (45, 45),\n",
    "\t\t('R', 'B'): (0, 40),\n",
    "\t\t('B', 'R'): (40, 0),\n",
    "\t\t('B', 'B'): (20, 20)\n",
    "\t},\n",
    "\t2: {\n",
    "\t\t('R', 'R'): (45, 45),\n",
    "\t\t('R', 'B'): (0, 35),\n",
    "\t\t('B', 'R'): (35, 0),\n",
    "\t\t('B', 'B'): (40, 40)\n",
    "\t}\n",
    "}"
   ]
  },
  {
   "cell_type": "code",
   "execution_count": 45,
   "metadata": {},
   "outputs": [],
   "source": [
    "API_URL = \"https://grateful-glowing-hog.ngrok-free.app/\"\n",
    "GENERATE_ENDPOINT = \"/ollama/api/generate\"\n",
    "CHAT_ENDPOINT = \"/ollama/api/chat\""
   ]
  },
  {
   "cell_type": "code",
   "execution_count": 46,
   "metadata": {},
   "outputs": [],
   "source": [
    "rand_gen = np.random.default_rng()"
   ]
  },
  {
   "cell_type": "code",
   "execution_count": 47,
   "metadata": {},
   "outputs": [],
   "source": [
    "\n",
    "participant_ids = np.arange(1, NUM_COHORTS * COHORT_SIZE + 1, dtype=int)\n",
    "rand_gen.shuffle(participant_ids)\n",
    "participants = np.array([(participant_id, np.empty((0,), dtype=list), 0) for participant_id in participant_ids], dtype=object)\n",
    "cohorts = np.array_split(participants, NUM_COHORTS)"
   ]
  },
  {
   "cell_type": "code",
   "execution_count": 48,
   "metadata": {},
   "outputs": [],
   "source": [
    "split_cohorts = np.array_split(cohorts, len(TREATMENTS))\n",
    "cohort_treatments = list(zip(split_cohorts, TREATMENTS.keys()))"
   ]
  },
  {
   "cell_type": "code",
   "execution_count": 49,
   "metadata": {},
   "outputs": [],
   "source": [
    "def prompt_model(prompt, context):\n",
    "\tprint(f\"Prompt: {prompt}\")\n",
    "\tprint(f\"Context: {context}\")\n",
    "\tmessages = [\n",
    "\t\t*context,\n",
    "\t\t{\n",
    "\t\t\t\"role\": \"user\",\n",
    "\t\t\t\"content\": prompt\n",
    "\t\t}\n",
    "\t]\n",
    "\tdata = {\n",
    "    \"model\": MODEL_NAME,\n",
    "\t\t\"messages\": messages,\n",
    "    \"stream\": False\n",
    "\t}\n",
    "\tprint(f\"Data: {data}\")\n",
    "\tres = requests.post(API_URL + CHAT_ENDPOINT, json=data).json()['response']\n",
    "\treturn [*messages, res]"
   ]
  },
  {
   "cell_type": "code",
   "execution_count": 50,
   "metadata": {},
   "outputs": [],
   "source": [
    "def get_choice(response):\n",
    "\tmatches = re.findall(\"{[A-Z]}\", response)\n",
    "\tif len(matches) > 0:\n",
    "\t\treturn matches[-1]\n",
    "\telse:\n",
    "\t\tmatches = re.findall(\"[RB]\", response)\n",
    "\t\tif len(matches) > 0:\n",
    "\t\t\treturn matches[-1]\n",
    "\t\telse:\n",
    "\t\t\treturn \"\""
   ]
  },
  {
   "cell_type": "code",
   "execution_count": 51,
   "metadata": {},
   "outputs": [],
   "source": [
    "def generate_start_prompt(treatment):\n",
    "\treturn f\"You are an undergraduate student participating in a lab experiment. You play a game with an anonymous player in which you simultaneously make a choice. Your payoff depends on both choices. If you both pick R, you each get {TREATMENTS[treatment][('R','R')][0]}$. If you choose R while they choose B, you get {TREATMENTS[treatment][('R','B')][0]}$, and they get {TREATMENTS[treatment][('R','B')][1]}$. Similarly, if you pick B while they pick R, you get {TREATMENTS[treatment][('B','R')][0]}$, and they get {TREATMENTS[treatment][('B','R')][1]}$. If you both pick B, you each earn {TREATMENTS[treatment][('B','B')][0]}$. The game has {NUM_ROUNDS} rounds. What's your choice? Perform reasoning as a human player. Append your choice letter in curly brackets as a last character.\""
   ]
  },
  {
   "cell_type": "code",
   "execution_count": 52,
   "metadata": {},
   "outputs": [],
   "source": [
    "def generate_cont_prompt(choice1, choice2, treatment):\n",
    "\treturn f\"You chose {choice1}. Your opponent chose {choice2}. Your payoff is {treatment[(choice1, choice2)][0]}. Your opponent's payoff is {treatment[(choice1, choice2)][1]}. Please play the next round.\""
   ]
  },
  {
   "cell_type": "code",
   "execution_count": 53,
   "metadata": {},
   "outputs": [],
   "source": [
    "def generate_end_prompt(choice1, choice2, treatment, payouts):\n",
    "\treturn f\"You chose {choice1}. Your opponent chose {choice2}. Your payoff is {treatment[(choice1, choice2)][0]}. Your opponent's payoff is {treatment[(choice1, choice2)][1]}. The game is now over. Your total payoff was {sum(payouts[0]) + treatment[(choice1, choice2)][0]}. Your opponent's total payoff was {sum(payouts[1]) + treatment[(choice1, choice2)][1]}.\""
   ]
  },
  {
   "cell_type": "code",
   "execution_count": 56,
   "metadata": {},
   "outputs": [
    {
     "name": "stdout",
     "output_type": "stream",
     "text": [
      "[np.int64(8) array([], dtype=object) 0]\n",
      "Treatment: 0.6 - Round: 1 - Participant 1: [np.int64(8) array([], dtype=object) 0] - Participant 2: [np.int64(4) array([], dtype=object) 0]\n",
      "Prompt: You are an undergraduate student participating in a lab experiment. You play a game with an anonymous player in which you simultaneously make a choice. Your payoff depends on both choices. If you both pick R, you each get 45$. If you choose R while they choose B, you get 0$, and they get 42$. Similarly, if you pick B while they pick R, you get 42$, and they get 0$. If you both pick B, you each earn 12$. The game has 3 rounds. What's your choice? Perform reasoning as a human player. Append your choice letter in curly brackets as a last character.\n",
      "Context: []\n",
      "Data: {'model': 'mistral', 'messages': [{'role': 'user', 'content': \"You are an undergraduate student participating in a lab experiment. You play a game with an anonymous player in which you simultaneously make a choice. Your payoff depends on both choices. If you both pick R, you each get 45$. If you choose R while they choose B, you get 0$, and they get 42$. Similarly, if you pick B while they pick R, you get 42$, and they get 0$. If you both pick B, you each earn 12$. The game has 3 rounds. What's your choice? Perform reasoning as a human player. Append your choice letter in curly brackets as a last character.\"}], 'stream': False}\n"
     ]
    },
    {
     "ename": "JSONDecodeError",
     "evalue": "Expecting value: line 1 column 1 (char 0)",
     "output_type": "error",
     "traceback": [
      "\u001b[1;31m---------------------------------------------------------------------------\u001b[0m",
      "\u001b[1;31mJSONDecodeError\u001b[0m                           Traceback (most recent call last)",
      "File \u001b[1;32mc:\\Heartwin\\Projects\\Discertation Playground\\venv\\Lib\\site-packages\\requests\\models.py:974\u001b[0m, in \u001b[0;36mResponse.json\u001b[1;34m(self, **kwargs)\u001b[0m\n\u001b[0;32m    973\u001b[0m \u001b[38;5;28;01mtry\u001b[39;00m:\n\u001b[1;32m--> 974\u001b[0m     \u001b[38;5;28;01mreturn\u001b[39;00m \u001b[43mcomplexjson\u001b[49m\u001b[38;5;241;43m.\u001b[39;49m\u001b[43mloads\u001b[49m\u001b[43m(\u001b[49m\u001b[38;5;28;43mself\u001b[39;49m\u001b[38;5;241;43m.\u001b[39;49m\u001b[43mtext\u001b[49m\u001b[43m,\u001b[49m\u001b[43m \u001b[49m\u001b[38;5;241;43m*\u001b[39;49m\u001b[38;5;241;43m*\u001b[39;49m\u001b[43mkwargs\u001b[49m\u001b[43m)\u001b[49m\n\u001b[0;32m    975\u001b[0m \u001b[38;5;28;01mexcept\u001b[39;00m JSONDecodeError \u001b[38;5;28;01mas\u001b[39;00m e:\n\u001b[0;32m    976\u001b[0m     \u001b[38;5;66;03m# Catch JSON-related errors and raise as requests.JSONDecodeError\u001b[39;00m\n\u001b[0;32m    977\u001b[0m     \u001b[38;5;66;03m# This aliases json.JSONDecodeError and simplejson.JSONDecodeError\u001b[39;00m\n",
      "File \u001b[1;32mC:\\Python312\\Lib\\json\\__init__.py:346\u001b[0m, in \u001b[0;36mloads\u001b[1;34m(s, cls, object_hook, parse_float, parse_int, parse_constant, object_pairs_hook, **kw)\u001b[0m\n\u001b[0;32m    343\u001b[0m \u001b[38;5;28;01mif\u001b[39;00m (\u001b[38;5;28mcls\u001b[39m \u001b[38;5;129;01mis\u001b[39;00m \u001b[38;5;28;01mNone\u001b[39;00m \u001b[38;5;129;01mand\u001b[39;00m object_hook \u001b[38;5;129;01mis\u001b[39;00m \u001b[38;5;28;01mNone\u001b[39;00m \u001b[38;5;129;01mand\u001b[39;00m\n\u001b[0;32m    344\u001b[0m         parse_int \u001b[38;5;129;01mis\u001b[39;00m \u001b[38;5;28;01mNone\u001b[39;00m \u001b[38;5;129;01mand\u001b[39;00m parse_float \u001b[38;5;129;01mis\u001b[39;00m \u001b[38;5;28;01mNone\u001b[39;00m \u001b[38;5;129;01mand\u001b[39;00m\n\u001b[0;32m    345\u001b[0m         parse_constant \u001b[38;5;129;01mis\u001b[39;00m \u001b[38;5;28;01mNone\u001b[39;00m \u001b[38;5;129;01mand\u001b[39;00m object_pairs_hook \u001b[38;5;129;01mis\u001b[39;00m \u001b[38;5;28;01mNone\u001b[39;00m \u001b[38;5;129;01mand\u001b[39;00m \u001b[38;5;129;01mnot\u001b[39;00m kw):\n\u001b[1;32m--> 346\u001b[0m     \u001b[38;5;28;01mreturn\u001b[39;00m \u001b[43m_default_decoder\u001b[49m\u001b[38;5;241;43m.\u001b[39;49m\u001b[43mdecode\u001b[49m\u001b[43m(\u001b[49m\u001b[43ms\u001b[49m\u001b[43m)\u001b[49m\n\u001b[0;32m    347\u001b[0m \u001b[38;5;28;01mif\u001b[39;00m \u001b[38;5;28mcls\u001b[39m \u001b[38;5;129;01mis\u001b[39;00m \u001b[38;5;28;01mNone\u001b[39;00m:\n",
      "File \u001b[1;32mC:\\Python312\\Lib\\json\\decoder.py:337\u001b[0m, in \u001b[0;36mJSONDecoder.decode\u001b[1;34m(self, s, _w)\u001b[0m\n\u001b[0;32m    333\u001b[0m \u001b[38;5;250m\u001b[39m\u001b[38;5;124;03m\"\"\"Return the Python representation of ``s`` (a ``str`` instance\u001b[39;00m\n\u001b[0;32m    334\u001b[0m \u001b[38;5;124;03mcontaining a JSON document).\u001b[39;00m\n\u001b[0;32m    335\u001b[0m \n\u001b[0;32m    336\u001b[0m \u001b[38;5;124;03m\"\"\"\u001b[39;00m\n\u001b[1;32m--> 337\u001b[0m obj, end \u001b[38;5;241m=\u001b[39m \u001b[38;5;28;43mself\u001b[39;49m\u001b[38;5;241;43m.\u001b[39;49m\u001b[43mraw_decode\u001b[49m\u001b[43m(\u001b[49m\u001b[43ms\u001b[49m\u001b[43m,\u001b[49m\u001b[43m \u001b[49m\u001b[43midx\u001b[49m\u001b[38;5;241;43m=\u001b[39;49m\u001b[43m_w\u001b[49m\u001b[43m(\u001b[49m\u001b[43ms\u001b[49m\u001b[43m,\u001b[49m\u001b[43m \u001b[49m\u001b[38;5;241;43m0\u001b[39;49m\u001b[43m)\u001b[49m\u001b[38;5;241;43m.\u001b[39;49m\u001b[43mend\u001b[49m\u001b[43m(\u001b[49m\u001b[43m)\u001b[49m\u001b[43m)\u001b[49m\n\u001b[0;32m    338\u001b[0m end \u001b[38;5;241m=\u001b[39m _w(s, end)\u001b[38;5;241m.\u001b[39mend()\n",
      "File \u001b[1;32mC:\\Python312\\Lib\\json\\decoder.py:355\u001b[0m, in \u001b[0;36mJSONDecoder.raw_decode\u001b[1;34m(self, s, idx)\u001b[0m\n\u001b[0;32m    354\u001b[0m \u001b[38;5;28;01mexcept\u001b[39;00m \u001b[38;5;167;01mStopIteration\u001b[39;00m \u001b[38;5;28;01mas\u001b[39;00m err:\n\u001b[1;32m--> 355\u001b[0m     \u001b[38;5;28;01mraise\u001b[39;00m JSONDecodeError(\u001b[38;5;124m\"\u001b[39m\u001b[38;5;124mExpecting value\u001b[39m\u001b[38;5;124m\"\u001b[39m, s, err\u001b[38;5;241m.\u001b[39mvalue) \u001b[38;5;28;01mfrom\u001b[39;00m \u001b[38;5;28;01mNone\u001b[39;00m\n\u001b[0;32m    356\u001b[0m \u001b[38;5;28;01mreturn\u001b[39;00m obj, end\n",
      "\u001b[1;31mJSONDecodeError\u001b[0m: Expecting value: line 1 column 1 (char 0)",
      "\nDuring handling of the above exception, another exception occurred:\n",
      "\u001b[1;31mJSONDecodeError\u001b[0m                           Traceback (most recent call last)",
      "Cell \u001b[1;32mIn[56], line 21\u001b[0m\n\u001b[0;32m     18\u001b[0m \tp_context \u001b[38;5;241m=\u001b[39m [\u001b[38;5;241m*\u001b[39mp_memory]\n\u001b[0;32m     19\u001b[0m \to_context \u001b[38;5;241m=\u001b[39m [\u001b[38;5;241m*\u001b[39mo_memory]\n\u001b[1;32m---> 21\u001b[0m p_memory \u001b[38;5;241m=\u001b[39m \u001b[43mprompt_model\u001b[49m\u001b[43m(\u001b[49m\u001b[43mp_prompt\u001b[49m\u001b[43m,\u001b[49m\u001b[43m \u001b[49m\u001b[43mp_context\u001b[49m\u001b[43m)\u001b[49m\n\u001b[0;32m     22\u001b[0m o_memory \u001b[38;5;241m=\u001b[39m prompt_model(o_prompt, o_context)\n",
      "Cell \u001b[1;32mIn[49], line 17\u001b[0m, in \u001b[0;36mprompt_model\u001b[1;34m(prompt, context)\u001b[0m\n\u001b[0;32m     11\u001b[0m \tdata \u001b[38;5;241m=\u001b[39m {\n\u001b[0;32m     12\u001b[0m     \u001b[38;5;124m\"\u001b[39m\u001b[38;5;124mmodel\u001b[39m\u001b[38;5;124m\"\u001b[39m: MODEL_NAME,\n\u001b[0;32m     13\u001b[0m \t\t\u001b[38;5;124m\"\u001b[39m\u001b[38;5;124mmessages\u001b[39m\u001b[38;5;124m\"\u001b[39m: messages,\n\u001b[0;32m     14\u001b[0m     \u001b[38;5;124m\"\u001b[39m\u001b[38;5;124mstream\u001b[39m\u001b[38;5;124m\"\u001b[39m: \u001b[38;5;28;01mFalse\u001b[39;00m\n\u001b[0;32m     15\u001b[0m \t}\n\u001b[0;32m     16\u001b[0m \t\u001b[38;5;28mprint\u001b[39m(\u001b[38;5;124mf\u001b[39m\u001b[38;5;124m\"\u001b[39m\u001b[38;5;124mData: \u001b[39m\u001b[38;5;132;01m{\u001b[39;00mdata\u001b[38;5;132;01m}\u001b[39;00m\u001b[38;5;124m\"\u001b[39m)\n\u001b[1;32m---> 17\u001b[0m \tres \u001b[38;5;241m=\u001b[39m \u001b[43mrequests\u001b[49m\u001b[38;5;241;43m.\u001b[39;49m\u001b[43mpost\u001b[49m\u001b[43m(\u001b[49m\u001b[43mAPI_URL\u001b[49m\u001b[43m \u001b[49m\u001b[38;5;241;43m+\u001b[39;49m\u001b[43m \u001b[49m\u001b[43mCHAT_ENDPOINT\u001b[49m\u001b[43m,\u001b[49m\u001b[43m \u001b[49m\u001b[43mjson\u001b[49m\u001b[38;5;241;43m=\u001b[39;49m\u001b[43mdata\u001b[49m\u001b[43m)\u001b[49m\u001b[38;5;241;43m.\u001b[39;49m\u001b[43mjson\u001b[49m\u001b[43m(\u001b[49m\u001b[43m)\u001b[49m[\u001b[38;5;124m'\u001b[39m\u001b[38;5;124mresponse\u001b[39m\u001b[38;5;124m'\u001b[39m]\n\u001b[0;32m     18\u001b[0m \t\u001b[38;5;28;01mreturn\u001b[39;00m [\u001b[38;5;241m*\u001b[39mmessages, res]\n",
      "File \u001b[1;32mc:\\Heartwin\\Projects\\Discertation Playground\\venv\\Lib\\site-packages\\requests\\models.py:978\u001b[0m, in \u001b[0;36mResponse.json\u001b[1;34m(self, **kwargs)\u001b[0m\n\u001b[0;32m    974\u001b[0m     \u001b[38;5;28;01mreturn\u001b[39;00m complexjson\u001b[38;5;241m.\u001b[39mloads(\u001b[38;5;28mself\u001b[39m\u001b[38;5;241m.\u001b[39mtext, \u001b[38;5;241m*\u001b[39m\u001b[38;5;241m*\u001b[39mkwargs)\n\u001b[0;32m    975\u001b[0m \u001b[38;5;28;01mexcept\u001b[39;00m JSONDecodeError \u001b[38;5;28;01mas\u001b[39;00m e:\n\u001b[0;32m    976\u001b[0m     \u001b[38;5;66;03m# Catch JSON-related errors and raise as requests.JSONDecodeError\u001b[39;00m\n\u001b[0;32m    977\u001b[0m     \u001b[38;5;66;03m# This aliases json.JSONDecodeError and simplejson.JSONDecodeError\u001b[39;00m\n\u001b[1;32m--> 978\u001b[0m     \u001b[38;5;28;01mraise\u001b[39;00m RequestsJSONDecodeError(e\u001b[38;5;241m.\u001b[39mmsg, e\u001b[38;5;241m.\u001b[39mdoc, e\u001b[38;5;241m.\u001b[39mpos)\n",
      "\u001b[1;31mJSONDecodeError\u001b[0m: Expecting value: line 1 column 1 (char 0)"
     ]
    }
   ],
   "source": [
    "for cohorts_for_treatment, treatment in cohort_treatments:\n",
    "\tfor cohort in cohorts_for_treatment:\n",
    "\t\tfor participant in cohort:\n",
    "\t\t\tp_memory = []\n",
    "\t\t\to_memory = []\n",
    "\t\t\tfor round in range(NUM_ROUNDS):\n",
    "\t\t\t\tprint(participant)\n",
    "\t\t\t\trand_participant = rand_gen.choice([x for x in cohort if x[0] != participant[0]])\n",
    "\t\t\t\tprint(f\"Treatment: {treatment} - Round: {round + 1} - Participant 1: {participant} - Participant 2: {rand_participant}\")\n",
    "\t\t\t\tif round == 0:\n",
    "\t\t\t\t\tp_prompt = generate_start_prompt(treatment)\n",
    "\t\t\t\t\to_prompt = generate_start_prompt(treatment)\n",
    "\t\t\t\t\tp_context = [*p_memory]\n",
    "\t\t\t\t\to_context = [*o_memory]\n",
    "\t\t\t\telse:\n",
    "\t\t\t\t\tp_prompt = generate_start_prompt(treatment)\n",
    "\t\t\t\t\to_prompt = generate_start_prompt(treatment)\n",
    "\t\t\t\t\tp_context = [*p_memory]\n",
    "\t\t\t\t\to_context = [*o_memory]\n",
    "\t\t\t\t\n",
    "\t\t\t\tp_memory = prompt_model(p_prompt, p_context)\n",
    "\t\t\t\to_memory = prompt_model(o_prompt, o_context)"
   ]
  }
 ],
 "metadata": {
  "kernelspec": {
   "display_name": "venv",
   "language": "python",
   "name": "python3"
  },
  "language_info": {
   "codemirror_mode": {
    "name": "ipython",
    "version": 3
   },
   "file_extension": ".py",
   "mimetype": "text/x-python",
   "name": "python",
   "nbconvert_exporter": "python",
   "pygments_lexer": "ipython3",
   "version": "3.12.4"
  }
 },
 "nbformat": 4,
 "nbformat_minor": 2
}
